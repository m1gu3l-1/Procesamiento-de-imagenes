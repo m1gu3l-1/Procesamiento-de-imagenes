{
 "cells": [
  {
   "cell_type": "code",
   "execution_count": 1,
   "id": "5489ca91-5c7b-4461-8514-55d4668d634f",
   "metadata": {},
   "outputs": [],
   "source": [
    "import imageio.v3 as iio\n",
    "import ipympl\n",
    "import matplotlib.pyplot as plt\n",
    "import numpy as np\n",
    "import skimage as ski\n",
    "\n",
    "%matplotlib widget\n",
    "\n"
   ]
  },
  {
   "cell_type": "code",
   "execution_count": 2,
   "id": "ef2d17c4-542f-4c47-9ff6-5fc704da2feb",
   "metadata": {},
   "outputs": [],
   "source": [
    "canvas = np.zeros(shape=(600, 800, 3), dtype=\"uint8\")\n",
    "\n"
   ]
  },
  {
   "cell_type": "code",
   "execution_count": 3,
   "id": "56f4d47b-3f99-4e43-97b2-1f8067ab71ee",
   "metadata": {},
   "outputs": [],
   "source": [
    "# Draw a blue circle with centre (200, 300) in (ry, cx) coordinates, and radius 100\n",
    "rr, cc = ski.draw.disk(center=(200, 300), radius=100, shape=canvas.shape[0:2])\n",
    "canvas[rr, cc] = (0, 0, 255)"
   ]
  },
  {
   "cell_type": "code",
   "execution_count": 4,
   "id": "5e539cae-dd91-43c5-9e53-c63f96bd4c6a",
   "metadata": {},
   "outputs": [],
   "source": [
    "# Draw a green line from (400, 200) to (500, 700) in (ry, cx) coordinates\n",
    "rr, cc = ski.draw.line(r0=400, c0=200, r1=500, c1=700)\n",
    "canvas[rr, cc] = (0, 255, 0)"
   ]
  },
  {
   "cell_type": "code",
   "execution_count": null,
   "id": "fccf91ea-0068-401d-86ea-fe60971bbc6b",
   "metadata": {},
   "outputs": [],
   "source": []
  },
  {
   "cell_type": "code",
   "execution_count": null,
   "id": "958e2888-9cff-4fe1-a7ff-c53563bd8a8e",
   "metadata": {},
   "outputs": [],
   "source": []
  }
 ],
 "metadata": {
  "kernelspec": {
   "display_name": "Python 3 (ipykernel)",
   "language": "python",
   "name": "python3"
  },
  "language_info": {
   "codemirror_mode": {
    "name": "ipython",
    "version": 3
   },
   "file_extension": ".py",
   "mimetype": "text/x-python",
   "name": "python",
   "nbconvert_exporter": "python",
   "pygments_lexer": "ipython3",
   "version": "3.11.7"
  }
 },
 "nbformat": 4,
 "nbformat_minor": 5
}
